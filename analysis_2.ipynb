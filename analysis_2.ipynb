{
 "cells": [
  {
   "cell_type": "code",
   "execution_count": 1,
   "metadata": {
    "collapsed": true
   },
   "outputs": [],
   "source": [
    "# importing dependencies\n",
    "import numpy as np\n",
    "import pandas as pd\n",
    "from IPython.display import display"
   ]
  },
  {
   "cell_type": "code",
   "execution_count": 2,
   "metadata": {
    "collapsed": false
   },
   "outputs": [],
   "source": [
    "# loading the data\n",
    "columns_names = [\"age\", \"workclass\", \"fnlwgt\", \"education\", \"education-num\", \\\n",
    "                 \"marital-status\", \"occupation\", \"relationship\", \"race\", \"sex\", \\\n",
    "                 \"capital-gain\", \"capital-loss\", \"hours-per-week\", \"native-country\", \"label\"]\n",
    "\n",
    "train_data = pd.read_csv('adult.data', header=None)\n",
    "test_data = pd.read_csv('adult.test', header=None)\n",
    "train_data.columns = columns_names\n",
    "test_data.columns = columns_names\n",
    "# display(train_data.head())\n",
    "# display(test_data.head())"
   ]
  },
  {
   "cell_type": "code",
   "execution_count": 3,
   "metadata": {
    "collapsed": true
   },
   "outputs": [],
   "source": [
    "# removing unecessary columns\n",
    "col_list = ['age', 'workclass', 'education-num', 'occupation', 'sex', 'label']\n",
    "train_data = train_data[col_list]\n",
    "test_data = test_data[col_list]"
   ]
  },
  {
   "cell_type": "code",
   "execution_count": 4,
   "metadata": {
    "collapsed": false
   },
   "outputs": [],
   "source": [
    "# removing missing data\n",
    "train_data = train_data[train_data.workclass != ' ?']\n",
    "train_data = train_data[train_data.occupation != ' ?']\n",
    "test_data = test_data[test_data.workclass != ' ?']\n",
    "test_data = test_data[test_data.occupation != ' ?']"
   ]
  },
  {
   "cell_type": "code",
   "execution_count": 5,
   "metadata": {
    "collapsed": false
   },
   "outputs": [],
   "source": [
    "# prepare datasets\n",
    "def prepare_dataset(ds):\n",
    "    dataset = ds\n",
    "    \n",
    "    # creating our custom train data DataFrame\n",
    "    col_list = ['age', 'workclass', 'education-num', 'occupation', 'sex', 'label']\n",
    "    dataset = dataset[col_list]\n",
    "\n",
    "\n",
    "    # setting values\n",
    "    workclass_state_1_values = [' Federal-gov', ' State-gov', ' Local-gov', ' Self-emp-inc']\n",
    "    workclass_state_0_values = [' Never-worked', ' Private', ' Self-emp-not-inc', ' Without-pay']\n",
    "    occupation_state_1_values = [' Exec-managerial', ' Prof-specialty', ' Protective-serv', ' Tech-support']\n",
    "    occupation_state_0_values = [' ?', ' Adm-clerical', ' Armed-Forces', ' Craft-repair', ' Farming-fishing', \\\n",
    "                                 ' Handlers-cleaners', ' Machine-op-inspct', ' Other-service', ' Priv-house-serv', \\\n",
    "                                 ' Sales', ' Transport-moving'] \n",
    "\n",
    "    # discretizing age\n",
    "    dataset.loc[dataset['age'] < 26, 'age'] = 0\n",
    "    dataset.loc[dataset['age'] > 65, 'age'] = 0\n",
    "    dataset.loc[dataset['age'] > 0, 'age'] = 1\n",
    "\n",
    "    # discretizing sex\n",
    "    dataset.loc[dataset['sex'] == ' Male', 'sex'] = 1\n",
    "    dataset.loc[dataset['sex'] == ' Female', 'sex'] = 0\n",
    "\n",
    "    # discretizing workclass\n",
    "    for val in workclass_state_1_values:\n",
    "        dataset.loc[dataset['workclass'] == val, 'workclass'] = 1\n",
    "    for val in workclass_state_0_values:\n",
    "        dataset.loc[dataset['workclass'] == val, 'workclass'] = 0\n",
    "\n",
    "    # discretizing education-num\n",
    "    dataset.loc[dataset['education-num'] < 10, 'education-num'] = 0\n",
    "    dataset.loc[dataset['education-num'] >= 10, 'education-num'] = 1\n",
    "\n",
    "    # discretizing occupation\n",
    "    for val in occupation_state_1_values:\n",
    "        dataset.loc[dataset['occupation'] == val, 'occupation'] = 1\n",
    "    for val in occupation_state_0_values:\n",
    "        dataset.loc[dataset['occupation'] == val, 'occupation'] = 0\n",
    "\n",
    "    # discretizing labels\n",
    "    dataset.loc[dataset['label'] == ' <=50K', 'label'] = 0\n",
    "    dataset.loc[dataset['label'] == ' >50K', 'label'] = 1\n",
    "    \n",
    "    return dataset\n",
    "    \n",
    "    \n",
    "train_data = prepare_dataset(train_data)\n",
    "test_data = prepare_dataset(test_data)\n",
    "# display(train_data)\n",
    "# display(test_data)"
   ]
  },
  {
   "cell_type": "code",
   "execution_count": 6,
   "metadata": {
    "collapsed": true
   },
   "outputs": [],
   "source": [
    "# writing files\n",
    "train_data.to_csv('/home/arthurcgusmao/my_train_data.dat', header=None, index=None, sep=',', mode='a')\n",
    "test_data.to_csv('/home/arthurcgusmao/my_test_data.dat', header=None, index=None, sep=',', mode='a')"
   ]
  }
 ],
 "metadata": {
  "kernelspec": {
   "display_name": "Python 3",
   "language": "python",
   "name": "python3"
  },
  "language_info": {
   "codemirror_mode": {
    "name": "ipython",
    "version": 3
   },
   "file_extension": ".py",
   "mimetype": "text/x-python",
   "name": "python",
   "nbconvert_exporter": "python",
   "pygments_lexer": "ipython3",
   "version": "3.6.0"
  }
 },
 "nbformat": 4,
 "nbformat_minor": 2
}
